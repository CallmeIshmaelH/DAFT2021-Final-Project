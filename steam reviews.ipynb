{
 "cells": [
  {
   "cell_type": "code",
   "execution_count": 2,
   "metadata": {},
   "outputs": [
    {
     "name": "stderr",
     "output_type": "stream",
     "text": [
      "[nltk_data] Downloading package maxent_ne_chunker to\n",
      "[nltk_data]     C:\\Users\\Ish\\AppData\\Roaming\\nltk_data...\n",
      "[nltk_data]   Package maxent_ne_chunker is already up-to-date!\n",
      "[nltk_data] Downloading package words to\n",
      "[nltk_data]     C:\\Users\\Ish\\AppData\\Roaming\\nltk_data...\n",
      "[nltk_data]   Package words is already up-to-date!\n"
     ]
    }
   ],
   "source": [
    "# import necessary libraries\n",
    "import pandas as pd\n",
    "import numpy as np\n",
    "import nltk\n",
    "import csv\n",
    "import json\n",
    "import pickle\n",
    "from langdetect import detect\n",
    "nltk.download('maxent_ne_chunker')\n",
    "nltk.download('words')\n",
    "pd.set_option('max_rows',None)\n",
    "pd.set_option('max_columns', None)"
   ]
  },
  {
   "cell_type": "code",
   "execution_count": 3,
   "metadata": {},
   "outputs": [],
   "source": [
    "def json_reviews_to_df(jsonfile_path):\n",
    "    jsondf = pd.read_json(jsonfile_path)\n",
    "    return jsondf\n",
    "\n",
    "filepath = r'C:/Users/Ish/Documents/Ironhack Bootcamp/PROJECTS/Game_Analysis_project/data2/'\n"
   ]
  },
  {
   "cell_type": "code",
   "execution_count": 4,
   "metadata": {},
   "outputs": [],
   "source": [
    "# look at structure of review json files and set up a function to create a dataframe of reviews for each app_id.\n",
    "# reviews_test = pd.read_json(r'C:\\Users\\Ish\\Documents\\Ironhack Bootcamp\\PROJECTS\\Game_Analysis_project\\data\\review_41900.json',)\n",
    "# reviews_test['reviews']\n",
    "\n",
    "def review_getter(review_df):\n",
    "    reviews =[]\n",
    "    for r in range(0, len(review_df['reviews'])):\n",
    "        try:\n",
    "            r = review_df['reviews'][r]['review']\n",
    "            if detect(r) == 'en':\n",
    "                reviews.append(r)\n",
    "            else:\n",
    "                reviews.append('[EXCLUDED LANGUAGE]')\n",
    "        except:\n",
    "            reviews.append(np.NaN)\n",
    "    review_df['review'] = reviews\n",
    "    return review_df\n",
    "\n",
    "# TEST: f = review_getter(reviews_test)\n",
    "# f\n"
   ]
  },
  {
   "cell_type": "code",
   "execution_count": 5,
   "metadata": {},
   "outputs": [],
   "source": [
    "def drop_chaff(reviewsdf):\n",
    "    reviews = reviewsdf[reviewsdf['review'] != '[EXCLUDED LANGUAGE]']['review']\n",
    "    reviews.dropna(inplace = True)\n",
    "    review_list = reviews.tolist()\n",
    "    return review_list\n",
    "\n",
    "#drop_chaff(reviews_test)"
   ]
  },
  {
   "cell_type": "code",
   "execution_count": 6,
   "metadata": {},
   "outputs": [],
   "source": [
    "\n",
    "def review_lister(path):\n",
    "    reviews_df = json_reviews_to_df(path) \n",
    "    step1 = review_getter(reviews_df)\n",
    "    step2 = drop_chaff(step1)\n",
    "    return step2\n",
    "\n",
    "# TEST: review_lister(filepath, 41900)"
   ]
  },
  {
   "cell_type": "code",
   "execution_count": 7,
   "metadata": {},
   "outputs": [
    {
     "data": {
      "text/html": [
       "<div>\n",
       "<style scoped>\n",
       "    .dataframe tbody tr th:only-of-type {\n",
       "        vertical-align: middle;\n",
       "    }\n",
       "\n",
       "    .dataframe tbody tr th {\n",
       "        vertical-align: top;\n",
       "    }\n",
       "\n",
       "    .dataframe thead th {\n",
       "        text-align: right;\n",
       "    }\n",
       "</style>\n",
       "<table border=\"1\" class=\"dataframe\">\n",
       "  <thead>\n",
       "    <tr style=\"text-align: right;\">\n",
       "      <th></th>\n",
       "      <th>type</th>\n",
       "      <th>name</th>\n",
       "      <th>steam_appid</th>\n",
       "      <th>release_date</th>\n",
       "      <th>developers</th>\n",
       "      <th>publishers</th>\n",
       "      <th>platforms</th>\n",
       "      <th>metacritic</th>\n",
       "      <th>reviews</th>\n",
       "      <th>genres</th>\n",
       "      <th>recommendations</th>\n",
       "    </tr>\n",
       "  </thead>\n",
       "  <tbody>\n",
       "    <tr>\n",
       "      <th>2668</th>\n",
       "      <td>game</td>\n",
       "      <td>Meridian: New World</td>\n",
       "      <td>265120</td>\n",
       "      <td>26 Sep, 2014</td>\n",
       "      <td>['Elder Games']</td>\n",
       "      <td>['Merge Games', 'Headup Games']</td>\n",
       "      <td>[windows]</td>\n",
       "      <td>43.0</td>\n",
       "      <td>“One Guy Shouldn’t Be Able To Make Meridian: N...</td>\n",
       "      <td>[Indie, Strategy]</td>\n",
       "      <td>279.0</td>\n",
       "    </tr>\n",
       "    <tr>\n",
       "      <th>5503</th>\n",
       "      <td>game</td>\n",
       "      <td>Bombshell</td>\n",
       "      <td>353190</td>\n",
       "      <td>29 Jan, 2016</td>\n",
       "      <td>['Slipgate Ironworks™']</td>\n",
       "      <td>['3D Realms']</td>\n",
       "      <td>[windows]</td>\n",
       "      <td>43.0</td>\n",
       "      <td>“Bombshell was a very pleasant experience. I a...</td>\n",
       "      <td>[Action, Adventure]</td>\n",
       "      <td>152.0</td>\n",
       "    </tr>\n",
       "    <tr>\n",
       "      <th>3059</th>\n",
       "      <td>game</td>\n",
       "      <td>4PM</td>\n",
       "      <td>281840</td>\n",
       "      <td>9 Jul, 2014</td>\n",
       "      <td>['Bojan Brbora']</td>\n",
       "      <td>['4PM GAME']</td>\n",
       "      <td>[windows, mac]</td>\n",
       "      <td>41.0</td>\n",
       "      <td>“if you're wanting to have a short and dramati...</td>\n",
       "      <td>[Indie]</td>\n",
       "      <td>124.0</td>\n",
       "    </tr>\n",
       "    <tr>\n",
       "      <th>2476</th>\n",
       "      <td>game</td>\n",
       "      <td>Montague's Mount</td>\n",
       "      <td>258950</td>\n",
       "      <td>19 Nov, 2013</td>\n",
       "      <td>['PolyPusher Studios']</td>\n",
       "      <td>['PolyPusher Studios']</td>\n",
       "      <td>[windows, mac, linux]</td>\n",
       "      <td>39.0</td>\n",
       "      <td>“Unique and emotional in so many ways, while t...</td>\n",
       "      <td>[Adventure, Indie]</td>\n",
       "      <td>252.0</td>\n",
       "    </tr>\n",
       "    <tr>\n",
       "      <th>1001</th>\n",
       "      <td>game</td>\n",
       "      <td>Making History II: The War of the World</td>\n",
       "      <td>46770</td>\n",
       "      <td>27 Aug, 2010</td>\n",
       "      <td>['Muzzy Lane Software']</td>\n",
       "      <td>['Factus Games']</td>\n",
       "      <td>[windows, mac, linux]</td>\n",
       "      <td>38.0</td>\n",
       "      <td>“...a pinnacle of grand strategy, rippling wit...</td>\n",
       "      <td>[Indie, Simulation, Strategy]</td>\n",
       "      <td>214.0</td>\n",
       "    </tr>\n",
       "  </tbody>\n",
       "</table>\n",
       "</div>"
      ],
      "text/plain": [
       "      type                                     name  steam_appid  \\\n",
       "2668  game                      Meridian: New World       265120   \n",
       "5503  game                                Bombshell       353190   \n",
       "3059  game                                      4PM       281840   \n",
       "2476  game                         Montague's Mount       258950   \n",
       "1001  game  Making History II: The War of the World        46770   \n",
       "\n",
       "      release_date               developers                       publishers  \\\n",
       "2668  26 Sep, 2014          ['Elder Games']  ['Merge Games', 'Headup Games']   \n",
       "5503  29 Jan, 2016  ['Slipgate Ironworks™']                    ['3D Realms']   \n",
       "3059   9 Jul, 2014         ['Bojan Brbora']                     ['4PM GAME']   \n",
       "2476  19 Nov, 2013   ['PolyPusher Studios']           ['PolyPusher Studios']   \n",
       "1001  27 Aug, 2010  ['Muzzy Lane Software']                 ['Factus Games']   \n",
       "\n",
       "                  platforms  metacritic  \\\n",
       "2668              [windows]        43.0   \n",
       "5503              [windows]        43.0   \n",
       "3059         [windows, mac]        41.0   \n",
       "2476  [windows, mac, linux]        39.0   \n",
       "1001  [windows, mac, linux]        38.0   \n",
       "\n",
       "                                                reviews  \\\n",
       "2668  “One Guy Shouldn’t Be Able To Make Meridian: N...   \n",
       "5503  “Bombshell was a very pleasant experience. I a...   \n",
       "3059  “if you're wanting to have a short and dramati...   \n",
       "2476  “Unique and emotional in so many ways, while t...   \n",
       "1001  “...a pinnacle of grand strategy, rippling wit...   \n",
       "\n",
       "                             genres  recommendations  \n",
       "2668              [Indie, Strategy]            279.0  \n",
       "5503            [Action, Adventure]            152.0  \n",
       "3059                        [Indie]            124.0  \n",
       "2476             [Adventure, Indie]            252.0  \n",
       "1001  [Indie, Simulation, Strategy]            214.0  "
      ]
     },
     "execution_count": 7,
     "metadata": {},
     "output_type": "execute_result"
    }
   ],
   "source": [
    "steam_t200_ids = pickle.load(open('steam_data_plan_b_clean.p', 'rb'))\n",
    "steam_top_ids = steam_t200_ids['steam_appid'][0:389].to_list()\n",
    "steam_top_ids\n",
    "\n",
    "steam_b200_ids = pickle.load(open('steam_back_up_bottom_350.p', 'rb'))\n",
    "steam_bottom_ids = steam_b200_ids['steam_appid'].to_list()\n",
    "steam_bottom_ids\n",
    "steam_b200_ids.tail()"
   ]
  },
  {
   "cell_type": "code",
   "execution_count": 8,
   "metadata": {},
   "outputs": [],
   "source": [
    "filepath = r'C:/Users/Ish/Documents/Ironhack Bootcamp/PROJECTS/Game_Analysis_project/data1/'\n",
    "\n",
    "file_paths = [filepath + f'review_{x}.json' for x in steam_top_ids]\n",
    "\n",
    "# steam_top_380_reviews = []\n",
    "# for x in file_paths:\n",
    "#     if x:\n",
    "#         rev = review_lister(x)\n",
    "#         steam_top_380_reviews.append(rev)\n",
    "#     else:\n",
    "#         pass\n",
    "\n",
    "# steam_top_380_reviews"
   ]
  },
  {
   "cell_type": "markdown",
   "metadata": {},
   "source": []
  },
  {
   "cell_type": "code",
   "execution_count": 9,
   "metadata": {},
   "outputs": [
    {
     "ename": "NameError",
     "evalue": "name 'steam_top_380_reviews' is not defined",
     "output_type": "error",
     "traceback": [
      "\u001b[1;31m---------------------------------------------------------------------------\u001b[0m",
      "\u001b[1;31mNameError\u001b[0m                                 Traceback (most recent call last)",
      "\u001b[1;32m~\\AppData\\Local\\Temp/ipykernel_24168/1044613278.py\u001b[0m in \u001b[0;36m<module>\u001b[1;34m\u001b[0m\n\u001b[0;32m      1\u001b[0m \u001b[1;32mwith\u001b[0m \u001b[0mopen\u001b[0m\u001b[1;33m(\u001b[0m\u001b[1;34m'steam_top_380.p'\u001b[0m\u001b[1;33m,\u001b[0m \u001b[1;34m'wb'\u001b[0m\u001b[1;33m)\u001b[0m \u001b[1;32mas\u001b[0m \u001b[0mf\u001b[0m\u001b[1;33m:\u001b[0m\u001b[1;33m\u001b[0m\u001b[1;33m\u001b[0m\u001b[0m\n\u001b[1;32m----> 2\u001b[1;33m     \u001b[0mpickle\u001b[0m\u001b[1;33m.\u001b[0m\u001b[0mdump\u001b[0m\u001b[1;33m(\u001b[0m\u001b[0msteam_top_380_reviews\u001b[0m\u001b[1;33m,\u001b[0m \u001b[0mf\u001b[0m\u001b[1;33m)\u001b[0m\u001b[1;33m\u001b[0m\u001b[1;33m\u001b[0m\u001b[0m\n\u001b[0m\u001b[0;32m      3\u001b[0m \u001b[1;33m\u001b[0m\u001b[0m\n",
      "\u001b[1;31mNameError\u001b[0m: name 'steam_top_380_reviews' is not defined"
     ]
    }
   ],
   "source": [
    "with open('steam_top_380.p', 'wb') as f:\n",
    "    pickle.dump(steam_top_380_reviews, f)\n",
    "    "
   ]
  },
  {
   "cell_type": "code",
   "execution_count": 10,
   "metadata": {},
   "outputs": [
    {
     "name": "stderr",
     "output_type": "stream",
     "text": [
      "C:\\Users\\Ish\\AppData\\Local\\Programs\\Python\\Python39\\lib\\site-packages\\pandas\\core\\series.py:5257: SettingWithCopyWarning: \n",
      "A value is trying to be set on a copy of a slice from a DataFrame\n",
      "\n",
      "See the caveats in the documentation: https://pandas.pydata.org/pandas-docs/stable/user_guide/indexing.html#returning-a-view-versus-a-copy\n",
      "  self._update_inplace(result)\n"
     ]
    }
   ],
   "source": [
    "filepath = 'C:/Users/Ish/Documents/Ironhack Bootcamp/PROJECTS/Game_Analysis_project/data2/'\n",
    "\n",
    "file_paths = [filepath + f'review_{x}.json' for x in steam_bottom_ids]\n",
    "\n",
    "steam_bottom_380_reviews = []\n",
    "for x in file_paths:\n",
    "    if x:\n",
    "        try:\n",
    "            rev = review_lister(x)\n",
    "            steam_bottom_380_reviews.append(rev)\n",
    "        except:\n",
    "            steam_bottom_380_reviews.append(np.NaN)\n",
    "    else:\n",
    "        pass\n",
    "\n",
    "steam_bottom_380_reviews"
   ]
  },
  {
   "cell_type": "code",
   "execution_count": 1,
   "metadata": {},
   "outputs": [
    {
     "ename": "NameError",
     "evalue": "name 'file_paths' is not defined",
     "output_type": "error",
     "traceback": [
      "\u001b[1;31m---------------------------------------------------------------------------\u001b[0m",
      "\u001b[1;31mNameError\u001b[0m                                 Traceback (most recent call last)",
      "\u001b[1;32m~\\AppData\\Local\\Temp/ipykernel_24168/3173668000.py\u001b[0m in \u001b[0;36m<module>\u001b[1;34m\u001b[0m\n\u001b[1;32m----> 1\u001b[1;33m \u001b[0mfile_paths\u001b[0m\u001b[1;33m[\u001b[0m\u001b[1;33m:\u001b[0m\u001b[1;36m25\u001b[0m\u001b[1;33m]\u001b[0m\u001b[1;33m\u001b[0m\u001b[1;33m\u001b[0m\u001b[0m\n\u001b[0m",
      "\u001b[1;31mNameError\u001b[0m: name 'file_paths' is not defined"
     ]
    }
   ],
   "source": [
    "file_paths[:25]"
   ]
  },
  {
   "cell_type": "code",
   "execution_count": 17,
   "metadata": {},
   "outputs": [],
   "source": [
    "with open('steam_bottom_380.p', 'wb') as f:\n",
    "    pickle.dump(steam_bottom_380_reviews, f)\n",
    "    "
   ]
  },
  {
   "cell_type": "code",
   "execution_count": null,
   "metadata": {},
   "outputs": [],
   "source": []
  }
 ],
 "metadata": {
  "interpreter": {
   "hash": "aedf8f1d51000f588b88a278d8030ee8b8cb0ccbfbd1b6163ec7fb88fccbe87e"
  },
  "kernelspec": {
   "display_name": "Python 3.9.6 64-bit",
   "name": "python3"
  },
  "language_info": {
   "codemirror_mode": {
    "name": "ipython",
    "version": 3
   },
   "file_extension": ".py",
   "mimetype": "text/x-python",
   "name": "python",
   "nbconvert_exporter": "python",
   "pygments_lexer": "ipython3",
   "version": "3.9.6"
  },
  "orig_nbformat": 4
 },
 "nbformat": 4,
 "nbformat_minor": 2
}
