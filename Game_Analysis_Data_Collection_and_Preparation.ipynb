{
 "cells": [
  {
   "cell_type": "markdown",
   "metadata": {},
   "source": [
    "# Data Collection: List the Best and Worst Games\n",
    "As we are trying to answer the question of \"What makes a game a bestseller?\" it seems a   \n",
    "good place to start would be to look at which games are actually bestsellers.  \n",
    "First we will scrape some lists of games to create shortlists of the 'best' games  \n",
    "according to commercial success (revenue) or by overall popularity (the number of players)."
   ]
  },
  {
   "cell_type": "code",
   "execution_count": null,
   "metadata": {},
   "outputs": [],
   "source": [
    "#Import necessary libraries\n",
    "mport requests\n",
    "from bs4 import BeautifulSoup\n",
    "from slugify import slugify\n",
    "from selenium import webdriver \n",
    "from selenium.webdriver.common.by import By\n",
    "from selenium.webdriver.support.ui import Select\n",
    "from selenium.webdriver.support.ui import WebDriverWait\n",
    "from selenium.webdriver.support import expected_conditions as EC\n",
    "import pandas as pd\n",
    "import numpy as np\n",
    "import getpass\n",
    "import pickle\n",
    "import re\n",
    "from time import sleep\n",
    "from random import randint \n",
    "import matplotlib.pyplot as plt\n",
    "import seaborn as sns\n",
    "%matplotlib inline \n",
    "pd.set_option('max_rows',None)\n",
    "pd.set_option('max_columns',None)"
   ]
  },
  {
   "cell_type": "markdown",
   "metadata": {},
   "source": []
  },
  {
   "cell_type": "markdown",
   "metadata": {},
   "source": [
    "# The RAWG dataset\n",
    "Load the RAWG community list of game data scraped from RAWG's web API.  \n",
    "The RAWG game dataset contains:\n",
    "- unique rawg community ids for each game.\n",
    "- titles\n",
    "- release date information\n",
    "- aggregated user ratings from its own community\n",
    "- aggregated ratings from metacritic (where available)\n",
    "- average length\n",
    "- available platforms\n",
    "- genres\n",
    "- esrb rating\n",
    "\n",
    "there are other columns that are not necessary for our purposes like 'tba' and 'genre_ids'\n",
    "so we can drop them\n"
   ]
  },
  {
   "cell_type": "code",
   "execution_count": null,
   "metadata": {},
   "outputs": [],
   "source": [
    "rawg_data = pd.read_csv('games_data.csv')\n",
    "rawg_data.columns\n",
    "rawg_data = rawg_data.drop(['Unnamed: 0','tba','genre_ids'], axis = 1)\n",
    "rawg_data.shape"
   ]
  },
  {
   "cell_type": "code",
   "execution_count": null,
   "metadata": {},
   "outputs": [],
   "source": [
    "# Add a column for overall sentiment.\n",
    "We will also create a new column to denote whether a given game has an overall positive or negative rating.  \n",
    "For now, we can think of these as very general sentiment labels for each game.\n",
    "\n",
    "As we are using the metacritic score as the main denoter of user attitude we will use the scale of 0-100 as the basis for \n",
    "classification. we can scale this to a ratio of 1 to 5 by dividing the metacritic scores by 20, and applying the np.ceil() function.\n",
    "this should give us a scale of the ratings and overall sentiments towards each game ranging from 1 or 'Very negative', to 5 or 'Very Positive'."
   ]
  },
  {
   "cell_type": "code",
   "execution_count": null,
   "metadata": {},
   "outputs": [],
   "source": [
    "# define a function to convert metacritic score to a broad rating classifier.\n",
    "def metacritic_reception(x):\n",
    "    score5 = str(np.ceil(x/20))\n",
    "    sentiment_scale = {'1.0':'Very Negative', '2.0':'Negative','3.0':'Neutral', '4.0':'Positive', '5.0':'Very Positive'}\n",
    "    return sentiment_scale[score5]\n",
    "\n",
    "# Test: metacritic_reception(72.977)\n"
   ]
  },
  {
   "cell_type": "code",
   "execution_count": null,
   "metadata": {},
   "outputs": [],
   "source": [
    "# create a column in the rawg data set for these general rating labels\n",
    "rawg_refined['user reception'] = rawg_refined['metacritic_score'].apply(lambda x: metacritic_reception(x))\n",
    "rawg_refined.head()"
   ]
  },
  {
   "cell_type": "code",
   "execution_count": null,
   "metadata": {},
   "outputs": [],
   "source": [
    "# set up a scraping method to scrape games in the list.\n",
    "# define function to convert game titles to a searchable format\n",
    "def name_searchable(x_input):\n",
    "    name = slugify(name)\n",
    "    return name\n",
    "\n",
    "def rawg_reviews(name):\n",
    "    query = slugify(name) \n",
    "    response = requests.get(f'https://rawg.io/games/{query}')\n",
    "    soup = BeautifulSoup(response.content, 'html.parser')\n",
    "    reviews = [x.get_text() for x in soup.find_all('div',{'class':'review-card__text'})]\n",
    "    sleep(randint(1,4))\n",
    "    return reviews\n"
   ]
  },
  {
   "cell_type": "code",
   "execution_count": null,
   "metadata": {},
   "outputs": [],
   "source": [
    "rawg_refined['reviews'] = [rawg_reviews(x) for x in rawg_refined['title']]"
   ]
  },
  {
   "cell_type": "code",
   "execution_count": null,
   "metadata": {},
   "outputs": [],
   "source": [
    "# now, we can sort the rawg game data by metacritic scores.\n",
    "rawg_refined.sort_values(by='metacritic_score', ascending=False, inplace = True)\n",
    "with open('rawg_refined_dataset.p','wb') as f:\n",
    "    pickle.dump(rawg_refined, f)\n",
    "# remove any values that do not have any associated reviews.\n",
    "rawg_reviews_data = rawg_refined.reset_index()\n",
    "for i in range(0,len(rawg_reviews_data)):\n",
    "    if rawg_reviews_data.reviews[i] == []:\n",
    "        rawg_reviews_data.drop(i, axis = 0, inplace = True)\n",
    "#  we can then separate these into the top 200, bottom 200 and create a sample of 200 games within the 3rd quantile of scores.\n",
    "\n",
    "rawg_top_200 = rawg_reviews_data[:201]\n",
    "rawg_bottom_200 = rawg_reviews_data[(len(rawg_reviews_data)-200):]\n",
    "rawg_mid_range = rawg_reviews_data[rawg_reviews_data['metacritic_score'] >= 67]\n",
    "rawg_mid_range = rawg_reviews_data[rawg_reviews_data['metacritic_score'] <= 81]\n",
    "rawg_mid_sample = rawg_mid_range.sample(200)\n",
    "rawg_mid_range.head()"
   ]
  },
  {
   "cell_type": "code",
   "execution_count": null,
   "metadata": {},
   "outputs": [],
   "source": [
    "rawg_top_200_file = open('rawg_top_200_text.txt', 'w', encoding = 'utf-8')\n",
    "for item in rawg_top_200['reviews']:\n",
    "    if len(item)>0:\n",
    "        rawg_top_200_file.write(\"%s\\n\" % item)\n",
    "\n",
    "rawg_top_200_file.close()\n",
    "\n",
    "\n",
    "\n",
    "rawg_bottom_200_file = open('rawg_bottom_200_text.txt', 'w', encoding = 'utf-8')\n",
    "for item in rawg_bottom_200['reviews']:\n",
    "    if len(item)>0:\n",
    "        rawg_bottom_200_file.write(\"%s\\n\" % item)\n",
    "\n",
    "rawg_bottom_200_file.close()\n",
    "\n",
    "\n",
    "\n",
    "mid_sample_file = open('rawg_mid_sample.txt', 'w', encoding = 'utf-8')\n",
    "for item in rawg_mid_sample['reviews']:\n",
    "    if len(item)>0:\n",
    "        mid_sample_file.write(\"%s\\n\" % item)\n",
    "\n",
    "mid_sample_file.close()"
   ]
  },
  {
   "cell_type": "code",
   "execution_count": null,
   "metadata": {},
   "outputs": [],
   "source": [
    "# The STEAM Dataset\n",
    "\n",
    "In addition to the data we have been scraping from the Steam Store application, I have also\n",
    "downloaded Nik Davis' dataset of Steam Games (uncleaned) from Kaggle (https://www.kaggle.com/nikdavis/steam-store-games).  \n",
    "Ideally, I would have used the data I collected on my own, but in the interest of time, this dataset should work well too.   \n",
    "However, it is worth noting that some of the information might be a outdated as this dataset was uploaded in 2019."
   ]
  },
  {
   "cell_type": "code",
   "execution_count": null,
   "metadata": {},
   "outputs": [],
   "source": [
    "# Nik Davis' Steam apps dataset.\n",
    "steam_data_backup = pd.read_csv('steam_app_data.csv')\n",
    "\n",
    "# clean up the dataframe and format to match the rawg data.\n",
    "steam_data_plan_b = steam_data_backup[['type', 'name', 'steam_appid','release_date','developers','publishers','platforms','metacritic','reviews','genres','recommendations']]\n",
    "steam_data_plan_b.head()\n"
   ]
  },
  {
   "cell_type": "code",
   "execution_count": null,
   "metadata": {},
   "outputs": [],
   "source": [
    "# Steam app data scraped from Steam Store.\n",
    "steam1 = pickle.load(open('steam_data_list.p', 'rb'))\n",
    "steam2 = pickle.load(open('steam_data_list2.p', 'rb'))\n",
    "steam3 = pickle.load(open('steam_data_list3.p', 'rb'))\n",
    "steam_data = steam1+steam2+steam3\n",
    "len(steam_data)"
   ]
  },
  {
   "cell_type": "code",
   "execution_count": null,
   "metadata": {},
   "outputs": [],
   "source": [
    "# define function to extract metacritic scores from dict object\n",
    "import ast\n",
    "\n",
    "def meta_metascore(x):\n",
    "    if type(x) != float and type(x) != None:\n",
    "        x = ast.literal_eval(x)\n",
    "        x =x['score']\n",
    "        return x\n",
    "    else:\n",
    "        x = np.NaN\n",
    "        return x\n",
    "\n",
    "# define a function to extract the release date\n",
    "def get_release_date(x):\n",
    "    if type(x) != float and type(x) != None:\n",
    "        x = eval(x)\n",
    "        return x['date']\n",
    "    else:\n",
    "        x = np.NaN\n",
    "        return x \n",
    "\n",
    "# define a function to extract the platforms \n",
    "def get_platform(x):\n",
    "    if type(x) != float and type(x) != None:\n",
    "        x = ast.literal_eval(x)\n",
    "        platforms = []\n",
    "        for key in x.keys():\n",
    "            if x[key]:\n",
    "                platforms.append(key)\n",
    "        return platforms\n",
    "    else:\n",
    "        platforms = []\n",
    "        platforms.append(np.NaN)\n",
    "        return platforms\n",
    "\n",
    "# define a function to extract the genres\n",
    "def get_genres(x):\n",
    "    if type(x) != float and type(x) != None:\n",
    "        x = ast.literal_eval(x)\n",
    "        genres = []\n",
    "        for d in x:\n",
    "            genres.append(d['description'])\n",
    "        return genres\n",
    "    else:\n",
    "        pass \n",
    "\n",
    "# define a function to extract the number of user recommendations\n",
    "def get_recommendations(x):\n",
    "    if type(x) != float and type(x) != None:\n",
    "        x = ast.literal_eval(x)\n",
    "        x =x['total']\n",
    "        return x\n",
    "    else:\n",
    "        x = np.NaN\n",
    "        return x\n"
   ]
  },
  {
   "cell_type": "code",
   "execution_count": null,
   "metadata": {},
   "outputs": [],
   "source": [
    "# assemble formatting functions as single function.\n",
    "def steam_cleaner(steam_df):\n",
    "    steam_df['release_date'] = steam_df['release_date'].apply(lambda x: get_release_date(x))\n",
    "    steam_df['platforms'] = steam_df['platforms'].apply(lambda x: get_platform(x))\n",
    "    steam_df['metacritic'] = steam_df['metacritic'].apply(lambda x: meta_metascore(x))\n",
    "    steam_df['genres'] = steam_df['genres'].apply(lambda x: get_genres(x))\n",
    "    steam_df['recommendations'] = steam_df['recommendations'].apply(lambda x: get_recommendations(x))\n",
    "    return steam_df"
   ]
  },
  {
   "cell_type": "code",
   "execution_count": null,
   "metadata": {},
   "outputs": [],
   "source": [
    "steam_data_plan_b = steam_cleaner(steam_data_plan_b)"
   ]
  },
  {
   "cell_type": "code",
   "execution_count": null,
   "metadata": {},
   "outputs": [],
   "source": [
    "# check NaN values\n",
    "steam_data_plan_b.isna().sum()\n",
    "# 26,254 rows do not have associated scores. These games may not be useful for our assessment so we will drop them.\n",
    "print(steam_data_plan_b.shape)\n",
    "steam_data_plan_b = steam_data_plan_b.dropna()\n",
    "steam_data_plan_b.shape\n"
   ]
  },
  {
   "cell_type": "code",
   "execution_count": null,
   "metadata": {},
   "outputs": [],
   "source": [
    "# get steam reviews for the back up data\n",
    "# # Set up a package to query each of the ids on steam, and scrape reviews for textual analysis.\n",
    "# import steamreviews\n",
    "\n",
    "# params = {'language':'english'}\n",
    "# theGood_Reviews = steamreviews.download_reviews_for_app_id_batch(steam_top_350['steam_appid'])"
   ]
  },
  {
   "cell_type": "code",
   "execution_count": null,
   "metadata": {},
   "outputs": [],
   "source": [
    "# params = {'language':'english'}\n",
    "# theBad_Reviewss = steamreviews.download_reviews_for_app_id_batch(steam_bottom_350['steam_appid'])"
   ]
  },
  {
   "cell_type": "code",
   "execution_count": null,
   "metadata": {},
   "outputs": [],
   "source": [
    "# params = {'language':'english'}\n",
    "# theAlright_Reviewss = steamreviews.download_reviews_for_app_id_batch(steam_middle_350['steam_appid'])"
   ]
  },
  {
   "cell_type": "code",
   "execution_count": null,
   "metadata": {},
   "outputs": [],
   "source": []
  },
  {
   "cell_type": "code",
   "execution_count": null,
   "metadata": {},
   "outputs": [],
   "source": []
  },
  {
   "cell_type": "code",
   "execution_count": null,
   "metadata": {},
   "outputs": [],
   "source": []
  }
 ],
 "metadata": {
  "interpreter": {
   "hash": "aedf8f1d51000f588b88a278d8030ee8b8cb0ccbfbd1b6163ec7fb88fccbe87e"
  },
  "kernelspec": {
   "display_name": "Python 3.9.6 64-bit",
   "name": "python3"
  },
  "language_info": {
   "codemirror_mode": {
    "name": "ipython",
    "version": 3
   },
   "file_extension": ".py",
   "mimetype": "text/x-python",
   "name": "python",
   "nbconvert_exporter": "python",
   "pygments_lexer": "ipython3",
   "version": "3.9.6"
  },
  "orig_nbformat": 4
 },
 "nbformat": 4,
 "nbformat_minor": 2
}
